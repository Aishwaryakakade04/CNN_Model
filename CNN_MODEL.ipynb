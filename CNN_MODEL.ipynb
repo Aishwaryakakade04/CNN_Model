{
  "nbformat": 4,
  "nbformat_minor": 0,
  "metadata": {
    "colab": {
      "provenance": []
    },
    "kernelspec": {
      "name": "python3",
      "display_name": "Python 3"
    },
    "language_info": {
      "name": "python"
    }
  },
  "cells": [
    {
      "cell_type": "code",
      "execution_count": 1,
      "metadata": {
        "id": "lwnbnGxu3F29"
      },
      "outputs": [],
      "source": [
        "from keras.datasets import mnist"
      ]
    },
    {
      "cell_type": "code",
      "source": [
        "(x_train,y_train),(x_test,y_test)=mnist.load_data()\n",
        "x_train"
      ],
      "metadata": {
        "colab": {
          "base_uri": "https://localhost:8080/"
        },
        "id": "nOPPqiRX3MyN",
        "outputId": "7b9500f1-d63d-4f3d-e466-01127ad2d205"
      },
      "execution_count": 2,
      "outputs": [
        {
          "output_type": "stream",
          "name": "stdout",
          "text": [
            "Downloading data from https://storage.googleapis.com/tensorflow/tf-keras-datasets/mnist.npz\n",
            "11490434/11490434 [==============================] - 0s 0us/step\n"
          ]
        },
        {
          "output_type": "execute_result",
          "data": {
            "text/plain": [
              "array([[[0, 0, 0, ..., 0, 0, 0],\n",
              "        [0, 0, 0, ..., 0, 0, 0],\n",
              "        [0, 0, 0, ..., 0, 0, 0],\n",
              "        ...,\n",
              "        [0, 0, 0, ..., 0, 0, 0],\n",
              "        [0, 0, 0, ..., 0, 0, 0],\n",
              "        [0, 0, 0, ..., 0, 0, 0]],\n",
              "\n",
              "       [[0, 0, 0, ..., 0, 0, 0],\n",
              "        [0, 0, 0, ..., 0, 0, 0],\n",
              "        [0, 0, 0, ..., 0, 0, 0],\n",
              "        ...,\n",
              "        [0, 0, 0, ..., 0, 0, 0],\n",
              "        [0, 0, 0, ..., 0, 0, 0],\n",
              "        [0, 0, 0, ..., 0, 0, 0]],\n",
              "\n",
              "       [[0, 0, 0, ..., 0, 0, 0],\n",
              "        [0, 0, 0, ..., 0, 0, 0],\n",
              "        [0, 0, 0, ..., 0, 0, 0],\n",
              "        ...,\n",
              "        [0, 0, 0, ..., 0, 0, 0],\n",
              "        [0, 0, 0, ..., 0, 0, 0],\n",
              "        [0, 0, 0, ..., 0, 0, 0]],\n",
              "\n",
              "       ...,\n",
              "\n",
              "       [[0, 0, 0, ..., 0, 0, 0],\n",
              "        [0, 0, 0, ..., 0, 0, 0],\n",
              "        [0, 0, 0, ..., 0, 0, 0],\n",
              "        ...,\n",
              "        [0, 0, 0, ..., 0, 0, 0],\n",
              "        [0, 0, 0, ..., 0, 0, 0],\n",
              "        [0, 0, 0, ..., 0, 0, 0]],\n",
              "\n",
              "       [[0, 0, 0, ..., 0, 0, 0],\n",
              "        [0, 0, 0, ..., 0, 0, 0],\n",
              "        [0, 0, 0, ..., 0, 0, 0],\n",
              "        ...,\n",
              "        [0, 0, 0, ..., 0, 0, 0],\n",
              "        [0, 0, 0, ..., 0, 0, 0],\n",
              "        [0, 0, 0, ..., 0, 0, 0]],\n",
              "\n",
              "       [[0, 0, 0, ..., 0, 0, 0],\n",
              "        [0, 0, 0, ..., 0, 0, 0],\n",
              "        [0, 0, 0, ..., 0, 0, 0],\n",
              "        ...,\n",
              "        [0, 0, 0, ..., 0, 0, 0],\n",
              "        [0, 0, 0, ..., 0, 0, 0],\n",
              "        [0, 0, 0, ..., 0, 0, 0]]], dtype=uint8)"
            ]
          },
          "metadata": {},
          "execution_count": 2
        }
      ]
    },
    {
      "cell_type": "code",
      "source": [
        "y_train"
      ],
      "metadata": {
        "colab": {
          "base_uri": "https://localhost:8080/"
        },
        "id": "VvnXWGg43eXe",
        "outputId": "8016d66f-476c-4aca-a3b7-842bfd69252e"
      },
      "execution_count": 3,
      "outputs": [
        {
          "output_type": "execute_result",
          "data": {
            "text/plain": [
              "array([5, 0, 4, ..., 5, 6, 8], dtype=uint8)"
            ]
          },
          "metadata": {},
          "execution_count": 3
        }
      ]
    },
    {
      "cell_type": "code",
      "source": [
        "import matplotlib.pyplot as plt\n"
      ],
      "metadata": {
        "id": "v5uWlJZ73kkD"
      },
      "execution_count": 4,
      "outputs": []
    },
    {
      "cell_type": "code",
      "source": [
        "plt.imshow(x_train[0],plt.get_cmap('binary'))"
      ],
      "metadata": {
        "colab": {
          "base_uri": "https://localhost:8080/",
          "height": 447
        },
        "id": "-0p9ia4U3nfw",
        "outputId": "e23ef5f2-f5fe-4c46-d5a6-4049c9eb8fcb"
      },
      "execution_count": 5,
      "outputs": [
        {
          "output_type": "execute_result",
          "data": {
            "text/plain": [
              "<matplotlib.image.AxesImage at 0x7c67b991fac0>"
            ]
          },
          "metadata": {},
          "execution_count": 5
        },
        {
          "output_type": "display_data",
          "data": {
            "text/plain": [
              "<Figure size 640x480 with 1 Axes>"
            ],
            "image/png": "[encoded data removed]"
          },
          "metadata": {}
        }
      ]
    },
    {
      "cell_type": "code",
      "source": [
        "x_train.shape"
      ],
      "metadata": {
        "colab": {
          "base_uri": "https://localhost:8080/"
        },
        "id": "lgb2Wnt23rGr",
        "outputId": "191f642b-08d2-4adb-e4c3-dd49f2f5f261"
      },
      "execution_count": 6,
      "outputs": [
        {
          "output_type": "execute_result",
          "data": {
            "text/plain": [
              "(60000, 28, 28)"
            ]
          },
          "metadata": {},
          "execution_count": 6
        }
      ]
    },
    {
      "cell_type": "code",
      "source": [
        "x_test.shape"
      ],
      "metadata": {
        "colab": {
          "base_uri": "https://localhost:8080/"
        },
        "id": "kY-DDC8s3vMZ",
        "outputId": "d09ea139-d716-4ef9-9d87-3113b66368d9"
      },
      "execution_count": 7,
      "outputs": [
        {
          "output_type": "execute_result",
          "data": {
            "text/plain": [
              "(10000, 28, 28)"
            ]
          },
          "metadata": {},
          "execution_count": 7
        }
      ]
    },
    {
      "cell_type": "code",
      "source": [
        "# Visualize the Images\n"
      ],
      "metadata": {
        "id": "33X-_Dk43yOz"
      },
      "execution_count": 9,
      "outputs": []
    },
    {
      "cell_type": "code",
      "source": [
        "x=1\n",
        "for i in range(10):\n",
        "    plt.subplot(4,4,x)\n",
        "    plt.imshow(x_train[i],plt.get_cmap('binary'))\n",
        "    x+=1"
      ],
      "metadata": {
        "colab": {
          "base_uri": "https://localhost:8080/",
          "height": 337
        },
        "id": "ZSegOY-c4JT6",
        "outputId": "82f9feb4-d249-4819-8d2d-d1c33b0bbdb6"
      },
      "execution_count": 10,
      "outputs": [
        {
          "output_type": "display_data",
          "data": {
            "text/plain": [
              "<Figure size 640x480 with 10 Axes>"
            ],
            "image/png": "[encoded data removed]"
          },
          "metadata": {}
        }
      ]
    },
    {
      "cell_type": "code",
      "source": [
        "# Preprocessing\n"
      ],
      "metadata": {
        "id": "XRB4M9I54UJI"
      },
      "execution_count": 11,
      "outputs": []
    },
    {
      "cell_type": "code",
      "source": [
        "from keras.utils import to_categorical"
      ],
      "metadata": {
        "id": "cM7i8wXX4ZWP"
      },
      "execution_count": 12,
      "outputs": []
    },
    {
      "cell_type": "code",
      "source": [
        "y_cat_tr=to_categorical(y_train)\n",
        "y_cat_ts=to_categorical(y_test)"
      ],
      "metadata": {
        "id": "HTKfjeyv4czz"
      },
      "execution_count": 13,
      "outputs": []
    },
    {
      "cell_type": "code",
      "source": [
        "y_cat_tr"
      ],
      "metadata": {
        "colab": {
          "base_uri": "https://localhost:8080/"
        },
        "id": "TcwDzujJ4gFk",
        "outputId": "2958b9c7-54c2-4db3-a652-943622ab5d41"
      },
      "execution_count": 14,
      "outputs": [
        {
          "output_type": "execute_result",
          "data": {
            "text/plain": [
              "array([[0., 0., 0., ..., 0., 0., 0.],\n",
              "       [1., 0., 0., ..., 0., 0., 0.],\n",
              "       [0., 0., 0., ..., 0., 0., 0.],\n",
              "       ...,\n",
              "       [0., 0., 0., ..., 0., 0., 0.],\n",
              "       [0., 0., 0., ..., 0., 0., 0.],\n",
              "       [0., 0., 0., ..., 0., 1., 0.]], dtype=float32)"
            ]
          },
          "metadata": {},
          "execution_count": 14
        }
      ]
    },
    {
      "cell_type": "code",
      "source": [
        "x_train=x_train/255\n",
        "x_test=x_test/255\n",
        "x_train"
      ],
      "metadata": {
        "colab": {
          "base_uri": "https://localhost:8080/"
        },
        "id": "ul13vpxZ4jls",
        "outputId": "9501f791-cdd5-45af-8c7e-fcfb73b9b05e"
      },
      "execution_count": 15,
      "outputs": [
        {
          "output_type": "execute_result",
          "data": {
            "text/plain": [
              "array([[[0., 0., 0., ..., 0., 0., 0.],\n",
              "        [0., 0., 0., ..., 0., 0., 0.],\n",
              "        [0., 0., 0., ..., 0., 0., 0.],\n",
              "        ...,\n",
              "        [0., 0., 0., ..., 0., 0., 0.],\n",
              "        [0., 0., 0., ..., 0., 0., 0.],\n",
              "        [0., 0., 0., ..., 0., 0., 0.]],\n",
              "\n",
              "       [[0., 0., 0., ..., 0., 0., 0.],\n",
              "        [0., 0., 0., ..., 0., 0., 0.],\n",
              "        [0., 0., 0., ..., 0., 0., 0.],\n",
              "        ...,\n",
              "        [0., 0., 0., ..., 0., 0., 0.],\n",
              "        [0., 0., 0., ..., 0., 0., 0.],\n",
              "        [0., 0., 0., ..., 0., 0., 0.]],\n",
              "\n",
              "       [[0., 0., 0., ..., 0., 0., 0.],\n",
              "        [0., 0., 0., ..., 0., 0., 0.],\n",
              "        [0., 0., 0., ..., 0., 0., 0.],\n",
              "        ...,\n",
              "        [0., 0., 0., ..., 0., 0., 0.],\n",
              "        [0., 0., 0., ..., 0., 0., 0.],\n",
              "        [0., 0., 0., ..., 0., 0., 0.]],\n",
              "\n",
              "       ...,\n",
              "\n",
              "       [[0., 0., 0., ..., 0., 0., 0.],\n",
              "        [0., 0., 0., ..., 0., 0., 0.],\n",
              "        [0., 0., 0., ..., 0., 0., 0.],\n",
              "        ...,\n",
              "        [0., 0., 0., ..., 0., 0., 0.],\n",
              "        [0., 0., 0., ..., 0., 0., 0.],\n",
              "        [0., 0., 0., ..., 0., 0., 0.]],\n",
              "\n",
              "       [[0., 0., 0., ..., 0., 0., 0.],\n",
              "        [0., 0., 0., ..., 0., 0., 0.],\n",
              "        [0., 0., 0., ..., 0., 0., 0.],\n",
              "        ...,\n",
              "        [0., 0., 0., ..., 0., 0., 0.],\n",
              "        [0., 0., 0., ..., 0., 0., 0.],\n",
              "        [0., 0., 0., ..., 0., 0., 0.]],\n",
              "\n",
              "       [[0., 0., 0., ..., 0., 0., 0.],\n",
              "        [0., 0., 0., ..., 0., 0., 0.],\n",
              "        [0., 0., 0., ..., 0., 0., 0.],\n",
              "        ...,\n",
              "        [0., 0., 0., ..., 0., 0., 0.],\n",
              "        [0., 0., 0., ..., 0., 0., 0.],\n",
              "        [0., 0., 0., ..., 0., 0., 0.]]])"
            ]
          },
          "metadata": {},
          "execution_count": 15
        }
      ]
    },
    {
      "cell_type": "code",
      "source": [
        "# Model Building\n"
      ],
      "metadata": {
        "id": "0qmvnQg-4pHC"
      },
      "execution_count": 16,
      "outputs": []
    },
    {
      "cell_type": "code",
      "source": [
        "from keras.models import Sequential\n",
        "from keras.layers import Dense,Dropout,BatchNormalization,Convolution2D,MaxPooling2D,Flatten"
      ],
      "metadata": {
        "id": "YhdCtt6o4vsp"
      },
      "execution_count": 17,
      "outputs": []
    },
    {
      "cell_type": "code",
      "source": [
        "nn=Sequential()"
      ],
      "metadata": {
        "id": "VNuKDGR-41L6"
      },
      "execution_count": 18,
      "outputs": []
    },
    {
      "cell_type": "code",
      "source": [
        "nn.add(Convolution2D(filters=16,kernel_size=(3,3),input_shape=(28,28,1)))\n",
        "nn.add(MaxPooling2D(pool_size=(2,2)))\n",
        "nn.add(BatchNormalization())\n",
        "nn.add(Dropout(0.2))\n",
        "\n",
        "nn.add(Convolution2D(filters=16,kernel_size=(3,3)))\n",
        "nn.add(MaxPooling2D(pool_size=(2,2)))\n",
        "nn.add(BatchNormalization())\n",
        "nn.add(Dropout(0.2))\n",
        "\n",
        "nn.add(Flatten())\n",
        "\n",
        "nn.add(Dense(300,activation='relu'))\n",
        "nn.add(Dense(300,activation='relu'))\n",
        "nn.add(Dense(300,activation='relu'))\n",
        "\n",
        "nn.add(Dense(10,activation='softmax'))"
      ],
      "metadata": {
        "id": "Pm5mSb9644dX"
      },
      "execution_count": 19,
      "outputs": []
    },
    {
      "cell_type": "code",
      "source": [
        "from keras.callbacks import EarlyStopping"
      ],
      "metadata": {
        "id": "q1XgAmoP49Gv"
      },
      "execution_count": 20,
      "outputs": []
    },
    {
      "cell_type": "code",
      "source": [
        "Early=EarlyStopping(monitor='val_loss',patience=3)"
      ],
      "metadata": {
        "id": "ul2Ib3MZ5A9z"
      },
      "execution_count": 21,
      "outputs": []
    },
    {
      "cell_type": "code",
      "source": [
        "# Compile"
      ],
      "metadata": {
        "id": "J0CoVl7n5D4C"
      },
      "execution_count": 22,
      "outputs": []
    },
    {
      "cell_type": "code",
      "source": [
        "nn.compile(loss='categorical_crossentropy',optimizer='adam',metrics=['accuracy'])"
      ],
      "metadata": {
        "id": "qTvf91vY5Htf"
      },
      "execution_count": 23,
      "outputs": []
    },
    {
      "cell_type": "code",
      "source": [
        "# Fitting The Model\n"
      ],
      "metadata": {
        "id": "IQkcZnX45PFE"
      },
      "execution_count": 24,
      "outputs": []
    },
    {
      "cell_type": "code",
      "source": [
        "hist=nn.fit(x_train,y_cat_tr,validation_split=0.2,callbacks=[Early],epochs=5)"
      ],
      "metadata": {
        "colab": {
          "base_uri": "https://localhost:8080/"
        },
        "id": "W8uCemBL5T03",
        "outputId": "5ad639de-43dd-47c7-affc-482e654eecd4"
      },
      "execution_count": 25,
      "outputs": [
        {
          "output_type": "stream",
          "name": "stdout",
          "text": [
            "Epoch 1/5\n",
            "1500/1500 [==============================] - 33s 21ms/step - loss: 0.1959 - accuracy: 0.9391 - val_loss: 0.0743 - val_accuracy: 0.9773\n",
            "Epoch 2/5\n",
            "1500/1500 [==============================] - 37s 25ms/step - loss: 0.0903 - accuracy: 0.9722 - val_loss: 0.0893 - val_accuracy: 0.9747\n",
            "Epoch 3/5\n",
            "1500/1500 [==============================] - 37s 25ms/step - loss: 0.0721 - accuracy: 0.9781 - val_loss: 0.0608 - val_accuracy: 0.9820\n",
            "Epoch 4/5\n",
            "1500/1500 [==============================] - 38s 26ms/step - loss: 0.0633 - accuracy: 0.9807 - val_loss: 0.0510 - val_accuracy: 0.9862\n",
            "Epoch 5/5\n",
            "1500/1500 [==============================] - 33s 22ms/step - loss: 0.0520 - accuracy: 0.9843 - val_loss: 0.0506 - val_accuracy: 0.9854\n"
          ]
        }
      ]
    },
    {
      "cell_type": "code",
      "source": [
        "# Visualize the Result\n"
      ],
      "metadata": {
        "id": "fhLkYOEj5YWH"
      },
      "execution_count": 26,
      "outputs": []
    },
    {
      "cell_type": "code",
      "source": [
        "plt.plot(hist.history['loss'])\n",
        "plt.plot(hist.history['val_loss'])\n",
        "#plt.plot(hist.history['accuracy'])"
      ],
      "metadata": {
        "colab": {
          "base_uri": "https://localhost:8080/",
          "height": 447
        },
        "id": "rsdBbl9_5evL",
        "outputId": "3804d046-1667-4f88-b3b6-1884aa202033"
      },
      "execution_count": 27,
      "outputs": [
        {
          "output_type": "execute_result",
          "data": {
            "text/plain": [
              "[<matplotlib.lines.Line2D at 0x7c67b657bee0>]"
            ]
          },
          "metadata": {},
          "execution_count": 27
        },
        {
          "output_type": "display_data",
          "data": {
            "text/plain": [
              "<Figure size 640x480 with 1 Axes>"
            ],
            "image/png": "[encoded data removed]"
          },
          "metadata": {}
        }
      ]
    },
    {
      "cell_type": "code",
      "source": [
        "# Evaluation\n"
      ],
      "metadata": {
        "id": "LZ9eD_rJ5jeT"
      },
      "execution_count": 28,
      "outputs": []
    },
    {
      "cell_type": "code",
      "source": [
        "# Testing Data Evaluation"
      ],
      "metadata": {
        "id": "1Wfr0BQY5p-0"
      },
      "execution_count": 29,
      "outputs": []
    },
    {
      "cell_type": "code",
      "source": [
        "from sklearn.metrics import accuracy_score,classification_report,multilabel_confusion_matrix"
      ],
      "metadata": {
        "id": "0KdVw9a_5xKe"
      },
      "execution_count": 30,
      "outputs": []
    },
    {
      "cell_type": "code",
      "source": [
        "y_pred=nn.predict(x_test)"
      ],
      "metadata": {
        "colab": {
          "base_uri": "https://localhost:8080/"
        },
        "id": "2usTj3S3506s",
        "outputId": "8c72cd7b-ef5f-4e85-ad43-ff91ae32e53c"
      },
      "execution_count": 31,
      "outputs": [
        {
          "output_type": "stream",
          "name": "stdout",
          "text": [
            "313/313 [==============================] - 3s 10ms/step\n"
          ]
        }
      ]
    },
    {
      "cell_type": "code",
      "source": [
        "y_pred\n"
      ],
      "metadata": {
        "colab": {
          "base_uri": "https://localhost:8080/"
        },
        "id": "fTZ2p4DK55rb",
        "outputId": "c8f2fa2b-5a91-4568-a093-9d7997b62c5c"
      },
      "execution_count": 32,
      "outputs": [
        {
          "output_type": "execute_result",
          "data": {
            "text/plain": [
              "array([[2.3432769e-16, 7.0241326e-12, 1.8651979e-11, ..., 9.9999982e-01,\n",
              "        2.5201148e-12, 7.9702026e-08],\n",
              "       [7.8129659e-08, 2.5845022e-04, 9.9973929e-01, ..., 1.9391707e-06,\n",
              "        1.0950125e-07, 1.7667617e-10],\n",
              "       [5.8038036e-12, 9.9999946e-01, 1.4244064e-08, ..., 2.0277311e-09,\n",
              "        3.1988611e-07, 7.9200353e-09],\n",
              "       ...,\n",
              "       [3.7283932e-13, 1.2881827e-07, 6.0276464e-09, ..., 3.4485968e-08,\n",
              "        9.8919838e-07, 1.1207590e-06],\n",
              "       [4.9181284e-11, 1.4397193e-12, 5.6603611e-12, ..., 5.2599827e-11,\n",
              "        1.4804798e-04, 1.3517098e-08],\n",
              "       [1.2104232e-07, 6.2713545e-09, 2.1167004e-09, ..., 1.5302436e-11,\n",
              "        9.1157958e-08, 3.4112830e-09]], dtype=float32)"
            ]
          },
          "metadata": {},
          "execution_count": 32
        }
      ]
    },
    {
      "cell_type": "code",
      "source": [
        "import numpy as np"
      ],
      "metadata": {
        "id": "0t-qMOJn5-5o"
      },
      "execution_count": 33,
      "outputs": []
    },
    {
      "cell_type": "code",
      "source": [
        "y_pred1=np.argmax(y_pred,axis=-1)\n",
        "y_pred1"
      ],
      "metadata": {
        "colab": {
          "base_uri": "https://localhost:8080/"
        },
        "id": "FvUhtQ0d6Hsm",
        "outputId": "2f644ea1-0df7-43d3-db68-e0ae0ccc27b7"
      },
      "execution_count": 34,
      "outputs": [
        {
          "output_type": "execute_result",
          "data": {
            "text/plain": [
              "array([7, 2, 1, ..., 4, 5, 6])"
            ]
          },
          "metadata": {},
          "execution_count": 34
        }
      ]
    },
    {
      "cell_type": "code",
      "source": [
        "y_test"
      ],
      "metadata": {
        "colab": {
          "base_uri": "https://localhost:8080/"
        },
        "id": "zLpSDCds6LIO",
        "outputId": "8b5f1a48-33d0-4b6f-de4e-5391f739a181"
      },
      "execution_count": 35,
      "outputs": [
        {
          "output_type": "execute_result",
          "data": {
            "text/plain": [
              "array([7, 2, 1, ..., 4, 5, 6], dtype=uint8)"
            ]
          },
          "metadata": {},
          "execution_count": 35
        }
      ]
    },
    {
      "cell_type": "code",
      "source": [
        "acc=accuracy_score(y_pred1,y_test)\n",
        "clf=classification_report(y_pred1,y_test)\n",
        "cnf=multilabel_confusion_matrix(y_pred1,y_test)\n",
        "\n",
        "print('Accuracy:',acc)\n",
        "print('classification_report:\\n',clf)\n",
        "print('Confusion_matrix:\\n',cnf)"
      ],
      "metadata": {
        "colab": {
          "base_uri": "https://localhost:8080/"
        },
        "id": "-yKOHQDB6PZ4",
        "outputId": "6167eccd-42e0-4dfd-e41c-46a63c5be4e9"
      },
      "execution_count": 36,
      "outputs": [
        {
          "output_type": "stream",
          "name": "stdout",
          "text": [
            "Accuracy: 0.9872\n",
            "classification_report:\n",
            "               precision    recall  f1-score   support\n",
            "\n",
            "           0       1.00      0.99      0.99       984\n",
            "           1       1.00      0.98      0.99      1156\n",
            "           2       0.97      0.99      0.98      1010\n",
            "           3       0.98      0.99      0.99       999\n",
            "           4       0.98      0.99      0.99       972\n",
            "           5       0.99      1.00      0.99       881\n",
            "           6       0.98      1.00      0.99       944\n",
            "           7       0.99      0.97      0.98      1043\n",
            "           8       0.99      0.98      0.99       982\n",
            "           9       0.99      0.97      0.98      1029\n",
            "\n",
            "    accuracy                           0.99     10000\n",
            "   macro avg       0.99      0.99      0.99     10000\n",
            "weighted avg       0.99      0.99      0.99     10000\n",
            "\n",
            "Confusion_matrix:\n",
            " [[[9012    4]\n",
            "  [   8  976]]\n",
            "\n",
            " [[8842    2]\n",
            "  [  23 1133]]\n",
            "\n",
            " [[8962   28]\n",
            "  [   6 1004]]\n",
            "\n",
            " [[8985   16]\n",
            "  [   5  994]]\n",
            "\n",
            " [[9011   17]\n",
            "  [   7  965]]\n",
            "\n",
            " [[9106   13]\n",
            "  [   2  879]]\n",
            "\n",
            " [[9038   18]\n",
            "  [   4  940]]\n",
            "\n",
            " [[8945   12]\n",
            "  [  27 1016]]\n",
            "\n",
            " [[9009    9]\n",
            "  [  17  965]]\n",
            "\n",
            " [[8962    9]\n",
            "  [  29 1000]]]\n"
          ]
        }
      ]
    },
    {
      "cell_type": "code",
      "source": [
        "# Unseen Data Evaluation\n"
      ],
      "metadata": {
        "id": "z12a0K_D6W0p"
      },
      "execution_count": 37,
      "outputs": []
    },
    {
      "cell_type": "code",
      "source": [
        "import cv2"
      ],
      "metadata": {
        "id": "k_G2zl8D6c93"
      },
      "execution_count": 45,
      "outputs": []
    },
    {
      "cell_type": "code",
      "source": [
        "img=cv2.imread('/Example_7.jpg',cv2.IMREAD_GRAYSCALE)\n",
        "img"
      ],
      "metadata": {
        "colab": {
          "base_uri": "https://localhost:8080/"
        },
        "id": "R0n_z9-k6kG9",
        "outputId": "a9019ca4-81f4-4b04-b8e5-c053fa5df5cb"
      },
      "execution_count": 47,
      "outputs": [
        {
          "output_type": "execute_result",
          "data": {
            "text/plain": [
              "array([[255, 253, 255, 251, 255, 255, 252, 255, 255, 253, 252, 254, 255,\n",
              "        255, 255, 254, 254, 254, 255, 255, 255, 255, 255, 255, 255, 255,\n",
              "        255, 255],\n",
              "       [255, 253, 255, 255, 254, 252, 255, 250, 255, 251, 255, 255, 248,\n",
              "        255, 254, 255, 255, 255, 255, 253, 255, 255, 252, 255, 255, 255,\n",
              "        255, 255],\n",
              "       [251, 255, 253, 251, 255, 254, 254, 255, 254, 255, 250, 255, 255,\n",
              "        255, 252, 255, 254, 248, 255, 255, 254, 252, 255, 255, 255, 255,\n",
              "        255, 255],\n",
              "       [255, 255, 249, 183,  34,   0,   0,  30, 153, 255, 253, 254, 255,\n",
              "        247, 255, 253, 255, 255, 255, 255, 254, 253, 255, 251, 255, 255,\n",
              "        255, 255],\n",
              "       [249, 255, 255,  31,   2,   2,   0,   3,   0,   2,   2,   1,   0,\n",
              "          8,   0,   2,   0,  36, 156, 255, 255, 250, 255, 255, 255, 255,\n",
              "        255, 255],\n",
              "       [255, 252, 253, 135,   0,   0,   0,   0,   2,   0,   0,   5,   1,\n",
              "          1,   0,   5,   5,   0,   5,  35, 134, 255, 254, 255, 255, 255,\n",
              "        255, 255],\n",
              "       [255, 254, 254, 255, 250, 255, 250,  93,   1,   0,   1,   2,   0,\n",
              "          2,   1,   0,   1,   2,   0,   0,   0, 255, 255, 248, 255, 255,\n",
              "        255, 255],\n",
              "       [255, 255, 255, 251, 255, 252, 250, 255, 252, 255, 252, 251, 255,\n",
              "        253, 255, 253, 133,   0,   1,   2,  77, 255, 247, 255, 255, 255,\n",
              "        255, 255],\n",
              "       [255, 253, 255, 254, 251, 255, 254, 254, 255, 251, 253, 255, 250,\n",
              "        253, 255, 255, 253,   3,   4,   1, 246, 251, 255, 255, 255, 255,\n",
              "        255, 255],\n",
              "       [251, 255, 254, 255, 255, 248, 251, 255, 254, 253, 255, 253, 255,\n",
              "        253, 252, 253, 128,   0,   0,   3, 253, 255, 251, 254, 255, 255,\n",
              "        255, 255],\n",
              "       [255, 255, 249, 250, 253, 255, 253, 255, 252, 255, 249, 253, 255,\n",
              "        254, 255, 152,   1,   1,   3,  92, 251, 255, 255, 251, 255, 255,\n",
              "        255, 255],\n",
              "       [251, 255, 253, 255, 255, 253, 254, 253, 253, 254, 255, 254, 251,\n",
              "        255, 252,  21,   0,   0,  71, 245, 254, 252, 255, 255, 255, 255,\n",
              "        255, 255],\n",
              "       [254, 253, 255, 251, 255, 253, 186,  65, 156, 251, 255, 253, 255,\n",
              "        253, 150,   3,   0,   9, 240, 252, 255, 255, 251, 255, 255, 255,\n",
              "        255, 255],\n",
              "       [252, 255, 250, 255, 255, 255,  29,   2,   0,   1,   1,   0,   0,\n",
              "          1,   0,   0,   2,  86, 255, 255, 253, 252, 255, 255, 255, 255,\n",
              "        255, 255],\n",
              "       [253, 254, 255, 253, 252, 255, 114,   0,   5,   0,   0,   4,   2,\n",
              "          0,   1,   0,   0,   3,  35, 157, 254, 255, 252, 254, 255, 255,\n",
              "        255, 255],\n",
              "       [255, 252, 255, 254, 255, 249, 249,  94,   0,   2,   2,   0,   0,\n",
              "          0,   2,   1,   2,   0,   0,   8, 255, 251, 254, 255, 255, 255,\n",
              "        255, 255],\n",
              "       [255, 255, 255, 255, 255, 255, 255, 255, 253, 255, 252, 251, 255,\n",
              "         25,   3,   0,   5,   0,   4, 104, 254, 255, 251, 254, 255, 255,\n",
              "        255, 255],\n",
              "       [255, 255, 255, 255, 255, 255, 255, 255, 255, 253, 255, 247, 255,\n",
              "          0,   1,   2, 246, 255, 255, 253, 255, 249, 255, 254, 255, 255,\n",
              "        255, 255],\n",
              "       [255, 255, 255, 255, 255, 255, 255, 255, 251, 255, 254, 255, 148,\n",
              "          4,   3,   0, 255, 254, 254, 255, 250, 255, 255, 255, 255, 255,\n",
              "        255, 255],\n",
              "       [255, 255, 255, 255, 255, 255, 255, 255, 255, 252, 254, 248,  24,\n",
              "          3,   0,  86, 251, 254, 255, 251, 255, 254, 247, 255, 255, 255,\n",
              "        255, 255],\n",
              "       [255, 255, 255, 255, 255, 255, 255, 255, 254, 255, 253, 155,   5,\n",
              "          0,   3, 245, 255, 255, 255, 251, 255, 254, 255, 254, 255, 255,\n",
              "        255, 255],\n",
              "       [255, 255, 255, 255, 255, 255, 255, 255, 255, 255, 255,  21,   3,\n",
              "          1,  87, 255, 254, 254, 252, 255, 255, 249, 252, 251, 255, 255,\n",
              "        255, 255],\n",
              "       [255, 255, 255, 255, 255, 255, 255, 255, 255, 253, 255,   0,   0,\n",
              "          5, 242, 255, 248, 255, 254, 251, 253, 255, 255, 255, 255, 255,\n",
              "        255, 255],\n",
              "       [255, 255, 255, 255, 255, 255, 255, 255, 255, 254, 148,   2,   1,\n",
              "          0, 255, 253, 255, 254, 255, 251, 255, 255, 253, 254, 255, 255,\n",
              "        255, 255],\n",
              "       [255, 255, 255, 255, 255, 255, 255, 255, 252, 255,  26,   0,   0,\n",
              "         88, 253, 254, 255, 255, 255, 255, 255, 255, 255, 255, 255, 255,\n",
              "        255, 255],\n",
              "       [255, 255, 255, 255, 255, 255, 255, 255, 255, 182,   0,   0,   3,\n",
              "        245, 255, 250, 255, 255, 255, 255, 255, 255, 255, 255, 255, 255,\n",
              "        255, 255],\n",
              "       [255, 255, 255, 255, 255, 255, 255, 255, 255,  33,   5,   3,   0,\n",
              "        255, 255, 255, 255, 255, 255, 255, 255, 255, 255, 255, 255, 255,\n",
              "        255, 255],\n",
              "       [255, 255, 255, 255, 255, 255, 255, 255, 255, 135,   0,   4,  99,\n",
              "        254, 254, 255, 255, 255, 255, 255, 255, 255, 255, 255, 255, 255,\n",
              "        255, 255]], dtype=uint8)"
            ]
          },
          "metadata": {},
          "execution_count": 47
        }
      ]
    },
    {
      "cell_type": "code",
      "source": [
        "plt.imshow(img,plt.get_cmap('binary'))"
      ],
      "metadata": {
        "colab": {
          "base_uri": "https://localhost:8080/",
          "height": 447
        },
        "id": "dXmS44NX6uRE",
        "outputId": "e2765bc1-8c65-4a13-be96-d87f16e00e79"
      },
      "execution_count": 48,
      "outputs": [
        {
          "output_type": "execute_result",
          "data": {
            "text/plain": [
              "<matplotlib.image.AxesImage at 0x7c677e834b50>"
            ]
          },
          "metadata": {},
          "execution_count": 48
        },
        {
          "output_type": "display_data",
          "data": {
            "text/plain": [
              "<Figure size 640x480 with 1 Axes>"
            ],
            "image/png": "[encoded data removed]"
          },
          "metadata": {}
        }
      ]
    },
    {
      "cell_type": "code",
      "source": [
        "img=~img\n",
        "img"
      ],
      "metadata": {
        "colab": {
          "base_uri": "https://localhost:8080/"
        },
        "id": "5EfWrHJrA5YE",
        "outputId": "ef0bd0d5-1102-4a0a-e323-16fe5459b427"
      },
      "execution_count": 49,
      "outputs": [
        {
          "output_type": "execute_result",
          "data": {
            "text/plain": [
              "array([[  0,   2,   0,   4,   0,   0,   3,   0,   0,   2,   3,   1,   0,\n",
              "          0,   0,   1,   1,   1,   0,   0,   0,   0,   0,   0,   0,   0,\n",
              "          0,   0],\n",
              "       [  0,   2,   0,   0,   1,   3,   0,   5,   0,   4,   0,   0,   7,\n",
              "          0,   1,   0,   0,   0,   0,   2,   0,   0,   3,   0,   0,   0,\n",
              "          0,   0],\n",
              "       [  4,   0,   2,   4,   0,   1,   1,   0,   1,   0,   5,   0,   0,\n",
              "          0,   3,   0,   1,   7,   0,   0,   1,   3,   0,   0,   0,   0,\n",
              "          0,   0],\n",
              "       [  0,   0,   6,  72, 221, 255, 255, 225, 102,   0,   2,   1,   0,\n",
              "          8,   0,   2,   0,   0,   0,   0,   1,   2,   0,   4,   0,   0,\n",
              "          0,   0],\n",
              "       [  6,   0,   0, 224, 253, 253, 255, 252, 255, 253, 253, 254, 255,\n",
              "        247, 255, 253, 255, 219,  99,   0,   0,   5,   0,   0,   0,   0,\n",
              "          0,   0],\n",
              "       [  0,   3,   2, 120, 255, 255, 255, 255, 253, 255, 255, 250, 254,\n",
              "        254, 255, 250, 250, 255, 250, 220, 121,   0,   1,   0,   0,   0,\n",
              "          0,   0],\n",
              "       [  0,   1,   1,   0,   5,   0,   5, 162, 254, 255, 254, 253, 255,\n",
              "        253, 254, 255, 254, 253, 255, 255, 255,   0,   0,   7,   0,   0,\n",
              "          0,   0],\n",
              "       [  0,   0,   0,   4,   0,   3,   5,   0,   3,   0,   3,   4,   0,\n",
              "          2,   0,   2, 122, 255, 254, 253, 178,   0,   8,   0,   0,   0,\n",
              "          0,   0],\n",
              "       [  0,   2,   0,   1,   4,   0,   1,   1,   0,   4,   2,   0,   5,\n",
              "          2,   0,   0,   2, 252, 251, 254,   9,   4,   0,   0,   0,   0,\n",
              "          0,   0],\n",
              "       [  4,   0,   1,   0,   0,   7,   4,   0,   1,   2,   0,   2,   0,\n",
              "          2,   3,   2, 127, 255, 255, 252,   2,   0,   4,   1,   0,   0,\n",
              "          0,   0],\n",
              "       [  0,   0,   6,   5,   2,   0,   2,   0,   3,   0,   6,   2,   0,\n",
              "          1,   0, 103, 254, 254, 252, 163,   4,   0,   0,   4,   0,   0,\n",
              "          0,   0],\n",
              "       [  4,   0,   2,   0,   0,   2,   1,   2,   2,   1,   0,   1,   4,\n",
              "          0,   3, 234, 255, 255, 184,  10,   1,   3,   0,   0,   0,   0,\n",
              "          0,   0],\n",
              "       [  1,   2,   0,   4,   0,   2,  69, 190,  99,   4,   0,   2,   0,\n",
              "          2, 105, 252, 255, 246,  15,   3,   0,   0,   4,   0,   0,   0,\n",
              "          0,   0],\n",
              "       [  3,   0,   5,   0,   0,   0, 226, 253, 255, 254, 254, 255, 255,\n",
              "        254, 255, 255, 253, 169,   0,   0,   2,   3,   0,   0,   0,   0,\n",
              "          0,   0],\n",
              "       [  2,   1,   0,   2,   3,   0, 141, 255, 250, 255, 255, 251, 253,\n",
              "        255, 254, 255, 255, 252, 220,  98,   1,   0,   3,   1,   0,   0,\n",
              "          0,   0],\n",
              "       [  0,   3,   0,   1,   0,   6,   6, 161, 255, 253, 253, 255, 255,\n",
              "        255, 253, 254, 253, 255, 255, 247,   0,   4,   1,   0,   0,   0,\n",
              "          0,   0],\n",
              "       [  0,   0,   0,   0,   0,   0,   0,   0,   2,   0,   3,   4,   0,\n",
              "        230, 252, 255, 250, 255, 251, 151,   1,   0,   4,   1,   0,   0,\n",
              "          0,   0],\n",
              "       [  0,   0,   0,   0,   0,   0,   0,   0,   0,   2,   0,   8,   0,\n",
              "        255, 254, 253,   9,   0,   0,   2,   0,   6,   0,   1,   0,   0,\n",
              "          0,   0],\n",
              "       [  0,   0,   0,   0,   0,   0,   0,   0,   4,   0,   1,   0, 107,\n",
              "        251, 252, 255,   0,   1,   1,   0,   5,   0,   0,   0,   0,   0,\n",
              "          0,   0],\n",
              "       [  0,   0,   0,   0,   0,   0,   0,   0,   0,   3,   1,   7, 231,\n",
              "        252, 255, 169,   4,   1,   0,   4,   0,   1,   8,   0,   0,   0,\n",
              "          0,   0],\n",
              "       [  0,   0,   0,   0,   0,   0,   0,   0,   1,   0,   2, 100, 250,\n",
              "        255, 252,  10,   0,   0,   0,   4,   0,   1,   0,   1,   0,   0,\n",
              "          0,   0],\n",
              "       [  0,   0,   0,   0,   0,   0,   0,   0,   0,   0,   0, 234, 252,\n",
              "        254, 168,   0,   1,   1,   3,   0,   0,   6,   3,   4,   0,   0,\n",
              "          0,   0],\n",
              "       [  0,   0,   0,   0,   0,   0,   0,   0,   0,   2,   0, 255, 255,\n",
              "        250,  13,   0,   7,   0,   1,   4,   2,   0,   0,   0,   0,   0,\n",
              "          0,   0],\n",
              "       [  0,   0,   0,   0,   0,   0,   0,   0,   0,   1, 107, 253, 254,\n",
              "        255,   0,   2,   0,   1,   0,   4,   0,   0,   2,   1,   0,   0,\n",
              "          0,   0],\n",
              "       [  0,   0,   0,   0,   0,   0,   0,   0,   3,   0, 229, 255, 255,\n",
              "        167,   2,   1,   0,   0,   0,   0,   0,   0,   0,   0,   0,   0,\n",
              "          0,   0],\n",
              "       [  0,   0,   0,   0,   0,   0,   0,   0,   0,  73, 255, 255, 252,\n",
              "         10,   0,   5,   0,   0,   0,   0,   0,   0,   0,   0,   0,   0,\n",
              "          0,   0],\n",
              "       [  0,   0,   0,   0,   0,   0,   0,   0,   0, 222, 250, 252, 255,\n",
              "          0,   0,   0,   0,   0,   0,   0,   0,   0,   0,   0,   0,   0,\n",
              "          0,   0],\n",
              "       [  0,   0,   0,   0,   0,   0,   0,   0,   0, 120, 255, 251, 156,\n",
              "          1,   1,   0,   0,   0,   0,   0,   0,   0,   0,   0,   0,   0,\n",
              "          0,   0]], dtype=uint8)"
            ]
          },
          "metadata": {},
          "execution_count": 49
        }
      ]
    },
    {
      "cell_type": "code",
      "source": [
        "plt.imshow(img,plt.get_cmap('binary'))"
      ],
      "metadata": {
        "colab": {
          "base_uri": "https://localhost:8080/",
          "height": 447
        },
        "id": "C0GVfUwmBRaQ",
        "outputId": "271b22c9-b2a7-4588-ca39-7bbf3ca2612b"
      },
      "execution_count": 50,
      "outputs": [
        {
          "output_type": "execute_result",
          "data": {
            "text/plain": [
              "<matplotlib.image.AxesImage at 0x7c677e6a2020>"
            ]
          },
          "metadata": {},
          "execution_count": 50
        },
        {
          "output_type": "display_data",
          "data": {
            "text/plain": [
              "<Figure size 640x480 with 1 Axes>"
            ],
            "image/png": "[encoded data removed]"
          },
          "metadata": {}
        }
      ]
    },
    {
      "cell_type": "code",
      "source": [
        "img1=img/255"
      ],
      "metadata": {
        "id": "T7dfH3w6BXn7"
      },
      "execution_count": 51,
      "outputs": []
    },
    {
      "cell_type": "code",
      "source": [
        "img1"
      ],
      "metadata": {
        "colab": {
          "base_uri": "https://localhost:8080/"
        },
        "id": "7g_vwfq8BiBR",
        "outputId": "816597f8-75b6-4f2e-ef1e-94a77d8b73ff"
      },
      "execution_count": 52,
      "outputs": [
        {
          "output_type": "execute_result",
          "data": {
            "text/plain": [
              "array([[0.        , 0.00784314, 0.        , 0.01568627, 0.        ,\n",
              "        0.        , 0.01176471, 0.        , 0.        , 0.00784314,\n",
              "        0.01176471, 0.00392157, 0.        , 0.        , 0.        ,\n",
              "        0.00392157, 0.00392157, 0.00392157, 0.        , 0.        ,\n",
              "        0.        , 0.        , 0.        , 0.        , 0.        ,\n",
              "        0.        , 0.        , 0.        ],\n",
              "       [0.        , 0.00784314, 0.        , 0.        , 0.00392157,\n",
              "        0.01176471, 0.        , 0.01960784, 0.        , 0.01568627,\n",
              "        0.        , 0.        , 0.02745098, 0.        , 0.00392157,\n",
              "        0.        , 0.        , 0.        , 0.        , 0.00784314,\n",
              "        0.        , 0.        , 0.01176471, 0.        , 0.        ,\n",
              "        0.        , 0.        , 0.        ],\n",
              "       [0.01568627, 0.        , 0.00784314, 0.01568627, 0.        ,\n",
              "        0.00392157, 0.00392157, 0.        , 0.00392157, 0.        ,\n",
              "        0.01960784, 0.        , 0.        , 0.        , 0.01176471,\n",
              "        0.        , 0.00392157, 0.02745098, 0.        , 0.        ,\n",
              "        0.00392157, 0.01176471, 0.        , 0.        , 0.        ,\n",
              "        0.        , 0.        , 0.        ],\n",
              "       [0.        , 0.        , 0.02352941, 0.28235294, 0.86666667,\n",
              "        1.        , 1.        , 0.88235294, 0.4       , 0.        ,\n",
              "        0.00784314, 0.00392157, 0.        , 0.03137255, 0.        ,\n",
              "        0.00784314, 0.        , 0.        , 0.        , 0.        ,\n",
              "        0.00392157, 0.00784314, 0.        , 0.01568627, 0.        ,\n",
              "        0.        , 0.        , 0.        ],\n",
              "       [0.02352941, 0.        , 0.        , 0.87843137, 0.99215686,\n",
              "        0.99215686, 1.        , 0.98823529, 1.        , 0.99215686,\n",
              "        0.99215686, 0.99607843, 1.        , 0.96862745, 1.        ,\n",
              "        0.99215686, 1.        , 0.85882353, 0.38823529, 0.        ,\n",
              "        0.        , 0.01960784, 0.        , 0.        , 0.        ,\n",
              "        0.        , 0.        , 0.        ],\n",
              "       [0.        , 0.01176471, 0.00784314, 0.47058824, 1.        ,\n",
              "        1.        , 1.        , 1.        , 0.99215686, 1.        ,\n",
              "        1.        , 0.98039216, 0.99607843, 0.99607843, 1.        ,\n",
              "        0.98039216, 0.98039216, 1.        , 0.98039216, 0.8627451 ,\n",
              "        0.4745098 , 0.        , 0.00392157, 0.        , 0.        ,\n",
              "        0.        , 0.        , 0.        ],\n",
              "       [0.        , 0.00392157, 0.00392157, 0.        , 0.01960784,\n",
              "        0.        , 0.01960784, 0.63529412, 0.99607843, 1.        ,\n",
              "        0.99607843, 0.99215686, 1.        , 0.99215686, 0.99607843,\n",
              "        1.        , 0.99607843, 0.99215686, 1.        , 1.        ,\n",
              "        1.        , 0.        , 0.        , 0.02745098, 0.        ,\n",
              "        0.        , 0.        , 0.        ],\n",
              "       [0.        , 0.        , 0.        , 0.01568627, 0.        ,\n",
              "        0.01176471, 0.01960784, 0.        , 0.01176471, 0.        ,\n",
              "        0.01176471, 0.01568627, 0.        , 0.00784314, 0.        ,\n",
              "        0.00784314, 0.47843137, 1.        , 0.99607843, 0.99215686,\n",
              "        0.69803922, 0.        , 0.03137255, 0.        , 0.        ,\n",
              "        0.        , 0.        , 0.        ],\n",
              "       [0.        , 0.00784314, 0.        , 0.00392157, 0.01568627,\n",
              "        0.        , 0.00392157, 0.00392157, 0.        , 0.01568627,\n",
              "        0.00784314, 0.        , 0.01960784, 0.00784314, 0.        ,\n",
              "        0.        , 0.00784314, 0.98823529, 0.98431373, 0.99607843,\n",
              "        0.03529412, 0.01568627, 0.        , 0.        , 0.        ,\n",
              "        0.        , 0.        , 0.        ],\n",
              "       [0.01568627, 0.        , 0.00392157, 0.        , 0.        ,\n",
              "        0.02745098, 0.01568627, 0.        , 0.00392157, 0.00784314,\n",
              "        0.        , 0.00784314, 0.        , 0.00784314, 0.01176471,\n",
              "        0.00784314, 0.49803922, 1.        , 1.        , 0.98823529,\n",
              "        0.00784314, 0.        , 0.01568627, 0.00392157, 0.        ,\n",
              "        0.        , 0.        , 0.        ],\n",
              "       [0.        , 0.        , 0.02352941, 0.01960784, 0.00784314,\n",
              "        0.        , 0.00784314, 0.        , 0.01176471, 0.        ,\n",
              "        0.02352941, 0.00784314, 0.        , 0.00392157, 0.        ,\n",
              "        0.40392157, 0.99607843, 0.99607843, 0.98823529, 0.63921569,\n",
              "        0.01568627, 0.        , 0.        , 0.01568627, 0.        ,\n",
              "        0.        , 0.        , 0.        ],\n",
              "       [0.01568627, 0.        , 0.00784314, 0.        , 0.        ,\n",
              "        0.00784314, 0.00392157, 0.00784314, 0.00784314, 0.00392157,\n",
              "        0.        , 0.00392157, 0.01568627, 0.        , 0.01176471,\n",
              "        0.91764706, 1.        , 1.        , 0.72156863, 0.03921569,\n",
              "        0.00392157, 0.01176471, 0.        , 0.        , 0.        ,\n",
              "        0.        , 0.        , 0.        ],\n",
              "       [0.00392157, 0.00784314, 0.        , 0.01568627, 0.        ,\n",
              "        0.00784314, 0.27058824, 0.74509804, 0.38823529, 0.01568627,\n",
              "        0.        , 0.00784314, 0.        , 0.00784314, 0.41176471,\n",
              "        0.98823529, 1.        , 0.96470588, 0.05882353, 0.01176471,\n",
              "        0.        , 0.        , 0.01568627, 0.        , 0.        ,\n",
              "        0.        , 0.        , 0.        ],\n",
              "       [0.01176471, 0.        , 0.01960784, 0.        , 0.        ,\n",
              "        0.        , 0.88627451, 0.99215686, 1.        , 0.99607843,\n",
              "        0.99607843, 1.        , 1.        , 0.99607843, 1.        ,\n",
              "        1.        , 0.99215686, 0.6627451 , 0.        , 0.        ,\n",
              "        0.00784314, 0.01176471, 0.        , 0.        , 0.        ,\n",
              "        0.        , 0.        , 0.        ],\n",
              "       [0.00784314, 0.00392157, 0.        , 0.00784314, 0.01176471,\n",
              "        0.        , 0.55294118, 1.        , 0.98039216, 1.        ,\n",
              "        1.        , 0.98431373, 0.99215686, 1.        , 0.99607843,\n",
              "        1.        , 1.        , 0.98823529, 0.8627451 , 0.38431373,\n",
              "        0.00392157, 0.        , 0.01176471, 0.00392157, 0.        ,\n",
              "        0.        , 0.        , 0.        ],\n",
              "       [0.        , 0.01176471, 0.        , 0.00392157, 0.        ,\n",
              "        0.02352941, 0.02352941, 0.63137255, 1.        , 0.99215686,\n",
              "        0.99215686, 1.        , 1.        , 1.        , 0.99215686,\n",
              "        0.99607843, 0.99215686, 1.        , 1.        , 0.96862745,\n",
              "        0.        , 0.01568627, 0.00392157, 0.        , 0.        ,\n",
              "        0.        , 0.        , 0.        ],\n",
              "       [0.        , 0.        , 0.        , 0.        , 0.        ,\n",
              "        0.        , 0.        , 0.        , 0.00784314, 0.        ,\n",
              "        0.01176471, 0.01568627, 0.        , 0.90196078, 0.98823529,\n",
              "        1.        , 0.98039216, 1.        , 0.98431373, 0.59215686,\n",
              "        0.00392157, 0.        , 0.01568627, 0.00392157, 0.        ,\n",
              "        0.        , 0.        , 0.        ],\n",
              "       [0.        , 0.        , 0.        , 0.        , 0.        ,\n",
              "        0.        , 0.        , 0.        , 0.        , 0.00784314,\n",
              "        0.        , 0.03137255, 0.        , 1.        , 0.99607843,\n",
              "        0.99215686, 0.03529412, 0.        , 0.        , 0.00784314,\n",
              "        0.        , 0.02352941, 0.        , 0.00392157, 0.        ,\n",
              "        0.        , 0.        , 0.        ],\n",
              "       [0.        , 0.        , 0.        , 0.        , 0.        ,\n",
              "        0.        , 0.        , 0.        , 0.01568627, 0.        ,\n",
              "        0.00392157, 0.        , 0.41960784, 0.98431373, 0.98823529,\n",
              "        1.        , 0.        , 0.00392157, 0.00392157, 0.        ,\n",
              "        0.01960784, 0.        , 0.        , 0.        , 0.        ,\n",
              "        0.        , 0.        , 0.        ],\n",
              "       [0.        , 0.        , 0.        , 0.        , 0.        ,\n",
              "        0.        , 0.        , 0.        , 0.        , 0.01176471,\n",
              "        0.00392157, 0.02745098, 0.90588235, 0.98823529, 1.        ,\n",
              "        0.6627451 , 0.01568627, 0.00392157, 0.        , 0.01568627,\n",
              "        0.        , 0.00392157, 0.03137255, 0.        , 0.        ,\n",
              "        0.        , 0.        , 0.        ],\n",
              "       [0.        , 0.        , 0.        , 0.        , 0.        ,\n",
              "        0.        , 0.        , 0.        , 0.00392157, 0.        ,\n",
              "        0.00784314, 0.39215686, 0.98039216, 1.        , 0.98823529,\n",
              "        0.03921569, 0.        , 0.        , 0.        , 0.01568627,\n",
              "        0.        , 0.00392157, 0.        , 0.00392157, 0.        ,\n",
              "        0.        , 0.        , 0.        ],\n",
              "       [0.        , 0.        , 0.        , 0.        , 0.        ,\n",
              "        0.        , 0.        , 0.        , 0.        , 0.        ,\n",
              "        0.        , 0.91764706, 0.98823529, 0.99607843, 0.65882353,\n",
              "        0.        , 0.00392157, 0.00392157, 0.01176471, 0.        ,\n",
              "        0.        , 0.02352941, 0.01176471, 0.01568627, 0.        ,\n",
              "        0.        , 0.        , 0.        ],\n",
              "       [0.        , 0.        , 0.        , 0.        , 0.        ,\n",
              "        0.        , 0.        , 0.        , 0.        , 0.00784314,\n",
              "        0.        , 1.        , 1.        , 0.98039216, 0.05098039,\n",
              "        0.        , 0.02745098, 0.        , 0.00392157, 0.01568627,\n",
              "        0.00784314, 0.        , 0.        , 0.        , 0.        ,\n",
              "        0.        , 0.        , 0.        ],\n",
              "       [0.        , 0.        , 0.        , 0.        , 0.        ,\n",
              "        0.        , 0.        , 0.        , 0.        , 0.00392157,\n",
              "        0.41960784, 0.99215686, 0.99607843, 1.        , 0.        ,\n",
              "        0.00784314, 0.        , 0.00392157, 0.        , 0.01568627,\n",
              "        0.        , 0.        , 0.00784314, 0.00392157, 0.        ,\n",
              "        0.        , 0.        , 0.        ],\n",
              "       [0.        , 0.        , 0.        , 0.        , 0.        ,\n",
              "        0.        , 0.        , 0.        , 0.01176471, 0.        ,\n",
              "        0.89803922, 1.        , 1.        , 0.65490196, 0.00784314,\n",
              "        0.00392157, 0.        , 0.        , 0.        , 0.        ,\n",
              "        0.        , 0.        , 0.        , 0.        , 0.        ,\n",
              "        0.        , 0.        , 0.        ],\n",
              "       [0.        , 0.        , 0.        , 0.        , 0.        ,\n",
              "        0.        , 0.        , 0.        , 0.        , 0.28627451,\n",
              "        1.        , 1.        , 0.98823529, 0.03921569, 0.        ,\n",
              "        0.01960784, 0.        , 0.        , 0.        , 0.        ,\n",
              "        0.        , 0.        , 0.        , 0.        , 0.        ,\n",
              "        0.        , 0.        , 0.        ],\n",
              "       [0.        , 0.        , 0.        , 0.        , 0.        ,\n",
              "        0.        , 0.        , 0.        , 0.        , 0.87058824,\n",
              "        0.98039216, 0.98823529, 1.        , 0.        , 0.        ,\n",
              "        0.        , 0.        , 0.        , 0.        , 0.        ,\n",
              "        0.        , 0.        , 0.        , 0.        , 0.        ,\n",
              "        0.        , 0.        , 0.        ],\n",
              "       [0.        , 0.        , 0.        , 0.        , 0.        ,\n",
              "        0.        , 0.        , 0.        , 0.        , 0.47058824,\n",
              "        1.        , 0.98431373, 0.61176471, 0.00392157, 0.00392157,\n",
              "        0.        , 0.        , 0.        , 0.        , 0.        ,\n",
              "        0.        , 0.        , 0.        , 0.        , 0.        ,\n",
              "        0.        , 0.        , 0.        ]])"
            ]
          },
          "metadata": {},
          "execution_count": 52
        }
      ]
    },
    {
      "cell_type": "code",
      "source": [
        "img2=np.array([img1])\n",
        "img2"
      ],
      "metadata": {
        "colab": {
          "base_uri": "https://localhost:8080/"
        },
        "id": "1tQ6o31vBlvJ",
        "outputId": "84df8127-eab1-44cf-fdba-c1fd56adef64"
      },
      "execution_count": 53,
      "outputs": [
        {
          "output_type": "execute_result",
          "data": {
            "text/plain": [
              "array([[[0.        , 0.00784314, 0.        , 0.01568627, 0.        ,\n",
              "         0.        , 0.01176471, 0.        , 0.        , 0.00784314,\n",
              "         0.01176471, 0.00392157, 0.        , 0.        , 0.        ,\n",
              "         0.00392157, 0.00392157, 0.00392157, 0.        , 0.        ,\n",
              "         0.        , 0.        , 0.        , 0.        , 0.        ,\n",
              "         0.        , 0.        , 0.        ],\n",
              "        [0.        , 0.00784314, 0.        , 0.        , 0.00392157,\n",
              "         0.01176471, 0.        , 0.01960784, 0.        , 0.01568627,\n",
              "         0.        , 0.        , 0.02745098, 0.        , 0.00392157,\n",
              "         0.        , 0.        , 0.        , 0.        , 0.00784314,\n",
              "         0.        , 0.        , 0.01176471, 0.        , 0.        ,\n",
              "         0.        , 0.        , 0.        ],\n",
              "        [0.01568627, 0.        , 0.00784314, 0.01568627, 0.        ,\n",
              "         0.00392157, 0.00392157, 0.        , 0.00392157, 0.        ,\n",
              "         0.01960784, 0.        , 0.        , 0.        , 0.01176471,\n",
              "         0.        , 0.00392157, 0.02745098, 0.        , 0.        ,\n",
              "         0.00392157, 0.01176471, 0.        , 0.        , 0.        ,\n",
              "         0.        , 0.        , 0.        ],\n",
              "        [0.        , 0.        , 0.02352941, 0.28235294, 0.86666667,\n",
              "         1.        , 1.        , 0.88235294, 0.4       , 0.        ,\n",
              "         0.00784314, 0.00392157, 0.        , 0.03137255, 0.        ,\n",
              "         0.00784314, 0.        , 0.        , 0.        , 0.        ,\n",
              "         0.00392157, 0.00784314, 0.        , 0.01568627, 0.        ,\n",
              "         0.        , 0.        , 0.        ],\n",
              "        [0.02352941, 0.        , 0.        , 0.87843137, 0.99215686,\n",
              "         0.99215686, 1.        , 0.98823529, 1.        , 0.99215686,\n",
              "         0.99215686, 0.99607843, 1.        , 0.96862745, 1.        ,\n",
              "         0.99215686, 1.        , 0.85882353, 0.38823529, 0.        ,\n",
              "         0.        , 0.01960784, 0.        , 0.        , 0.        ,\n",
              "         0.        , 0.        , 0.        ],\n",
              "        [0.        , 0.01176471, 0.00784314, 0.47058824, 1.        ,\n",
              "         1.        , 1.        , 1.        , 0.99215686, 1.        ,\n",
              "         1.        , 0.98039216, 0.99607843, 0.99607843, 1.        ,\n",
              "         0.98039216, 0.98039216, 1.        , 0.98039216, 0.8627451 ,\n",
              "         0.4745098 , 0.        , 0.00392157, 0.        , 0.        ,\n",
              "         0.        , 0.        , 0.        ],\n",
              "        [0.        , 0.00392157, 0.00392157, 0.        , 0.01960784,\n",
              "         0.        , 0.01960784, 0.63529412, 0.99607843, 1.        ,\n",
              "         0.99607843, 0.99215686, 1.        , 0.99215686, 0.99607843,\n",
              "         1.        , 0.99607843, 0.99215686, 1.        , 1.        ,\n",
              "         1.        , 0.        , 0.        , 0.02745098, 0.        ,\n",
              "         0.        , 0.        , 0.        ],\n",
              "        [0.        , 0.        , 0.        , 0.01568627, 0.        ,\n",
              "         0.01176471, 0.01960784, 0.        , 0.01176471, 0.        ,\n",
              "         0.01176471, 0.01568627, 0.        , 0.00784314, 0.        ,\n",
              "         0.00784314, 0.47843137, 1.        , 0.99607843, 0.99215686,\n",
              "         0.69803922, 0.        , 0.03137255, 0.        , 0.        ,\n",
              "         0.        , 0.        , 0.        ],\n",
              "        [0.        , 0.00784314, 0.        , 0.00392157, 0.01568627,\n",
              "         0.        , 0.00392157, 0.00392157, 0.        , 0.01568627,\n",
              "         0.00784314, 0.        , 0.01960784, 0.00784314, 0.        ,\n",
              "         0.        , 0.00784314, 0.98823529, 0.98431373, 0.99607843,\n",
              "         0.03529412, 0.01568627, 0.        , 0.        , 0.        ,\n",
              "         0.        , 0.        , 0.        ],\n",
              "        [0.01568627, 0.        , 0.00392157, 0.        , 0.        ,\n",
              "         0.02745098, 0.01568627, 0.        , 0.00392157, 0.00784314,\n",
              "         0.        , 0.00784314, 0.        , 0.00784314, 0.01176471,\n",
              "         0.00784314, 0.49803922, 1.        , 1.        , 0.98823529,\n",
              "         0.00784314, 0.        , 0.01568627, 0.00392157, 0.        ,\n",
              "         0.        , 0.        , 0.        ],\n",
              "        [0.        , 0.        , 0.02352941, 0.01960784, 0.00784314,\n",
              "         0.        , 0.00784314, 0.        , 0.01176471, 0.        ,\n",
              "         0.02352941, 0.00784314, 0.        , 0.00392157, 0.        ,\n",
              "         0.40392157, 0.99607843, 0.99607843, 0.98823529, 0.63921569,\n",
              "         0.01568627, 0.        , 0.        , 0.01568627, 0.        ,\n",
              "         0.        , 0.        , 0.        ],\n",
              "        [0.01568627, 0.        , 0.00784314, 0.        , 0.        ,\n",
              "         0.00784314, 0.00392157, 0.00784314, 0.00784314, 0.00392157,\n",
              "         0.        , 0.00392157, 0.01568627, 0.        , 0.01176471,\n",
              "         0.91764706, 1.        , 1.        , 0.72156863, 0.03921569,\n",
              "         0.00392157, 0.01176471, 0.        , 0.        , 0.        ,\n",
              "         0.        , 0.        , 0.        ],\n",
              "        [0.00392157, 0.00784314, 0.        , 0.01568627, 0.        ,\n",
              "         0.00784314, 0.27058824, 0.74509804, 0.38823529, 0.01568627,\n",
              "         0.        , 0.00784314, 0.        , 0.00784314, 0.41176471,\n",
              "         0.98823529, 1.        , 0.96470588, 0.05882353, 0.01176471,\n",
              "         0.        , 0.        , 0.01568627, 0.        , 0.        ,\n",
              "         0.        , 0.        , 0.        ],\n",
              "        [0.01176471, 0.        , 0.01960784, 0.        , 0.        ,\n",
              "         0.        , 0.88627451, 0.99215686, 1.        , 0.99607843,\n",
              "         0.99607843, 1.        , 1.        , 0.99607843, 1.        ,\n",
              "         1.        , 0.99215686, 0.6627451 , 0.        , 0.        ,\n",
              "         0.00784314, 0.01176471, 0.        , 0.        , 0.        ,\n",
              "         0.        , 0.        , 0.        ],\n",
              "        [0.00784314, 0.00392157, 0.        , 0.00784314, 0.01176471,\n",
              "         0.        , 0.55294118, 1.        , 0.98039216, 1.        ,\n",
              "         1.        , 0.98431373, 0.99215686, 1.        , 0.99607843,\n",
              "         1.        , 1.        , 0.98823529, 0.8627451 , 0.38431373,\n",
              "         0.00392157, 0.        , 0.01176471, 0.00392157, 0.        ,\n",
              "         0.        , 0.        , 0.        ],\n",
              "        [0.        , 0.01176471, 0.        , 0.00392157, 0.        ,\n",
              "         0.02352941, 0.02352941, 0.63137255, 1.        , 0.99215686,\n",
              "         0.99215686, 1.        , 1.        , 1.        , 0.99215686,\n",
              "         0.99607843, 0.99215686, 1.        , 1.        , 0.96862745,\n",
              "         0.        , 0.01568627, 0.00392157, 0.        , 0.        ,\n",
              "         0.        , 0.        , 0.        ],\n",
              "        [0.        , 0.        , 0.        , 0.        , 0.        ,\n",
              "         0.        , 0.        , 0.        , 0.00784314, 0.        ,\n",
              "         0.01176471, 0.01568627, 0.        , 0.90196078, 0.98823529,\n",
              "         1.        , 0.98039216, 1.        , 0.98431373, 0.59215686,\n",
              "         0.00392157, 0.        , 0.01568627, 0.00392157, 0.        ,\n",
              "         0.        , 0.        , 0.        ],\n",
              "        [0.        , 0.        , 0.        , 0.        , 0.        ,\n",
              "         0.        , 0.        , 0.        , 0.        , 0.00784314,\n",
              "         0.        , 0.03137255, 0.        , 1.        , 0.99607843,\n",
              "         0.99215686, 0.03529412, 0.        , 0.        , 0.00784314,\n",
              "         0.        , 0.02352941, 0.        , 0.00392157, 0.        ,\n",
              "         0.        , 0.        , 0.        ],\n",
              "        [0.        , 0.        , 0.        , 0.        , 0.        ,\n",
              "         0.        , 0.        , 0.        , 0.01568627, 0.        ,\n",
              "         0.00392157, 0.        , 0.41960784, 0.98431373, 0.98823529,\n",
              "         1.        , 0.        , 0.00392157, 0.00392157, 0.        ,\n",
              "         0.01960784, 0.        , 0.        , 0.        , 0.        ,\n",
              "         0.        , 0.        , 0.        ],\n",
              "        [0.        , 0.        , 0.        , 0.        , 0.        ,\n",
              "         0.        , 0.        , 0.        , 0.        , 0.01176471,\n",
              "         0.00392157, 0.02745098, 0.90588235, 0.98823529, 1.        ,\n",
              "         0.6627451 , 0.01568627, 0.00392157, 0.        , 0.01568627,\n",
              "         0.        , 0.00392157, 0.03137255, 0.        , 0.        ,\n",
              "         0.        , 0.        , 0.        ],\n",
              "        [0.        , 0.        , 0.        , 0.        , 0.        ,\n",
              "         0.        , 0.        , 0.        , 0.00392157, 0.        ,\n",
              "         0.00784314, 0.39215686, 0.98039216, 1.        , 0.98823529,\n",
              "         0.03921569, 0.        , 0.        , 0.        , 0.01568627,\n",
              "         0.        , 0.00392157, 0.        , 0.00392157, 0.        ,\n",
              "         0.        , 0.        , 0.        ],\n",
              "        [0.        , 0.        , 0.        , 0.        , 0.        ,\n",
              "         0.        , 0.        , 0.        , 0.        , 0.        ,\n",
              "         0.        , 0.91764706, 0.98823529, 0.99607843, 0.65882353,\n",
              "         0.        , 0.00392157, 0.00392157, 0.01176471, 0.        ,\n",
              "         0.        , 0.02352941, 0.01176471, 0.01568627, 0.        ,\n",
              "         0.        , 0.        , 0.        ],\n",
              "        [0.        , 0.        , 0.        , 0.        , 0.        ,\n",
              "         0.        , 0.        , 0.        , 0.        , 0.00784314,\n",
              "         0.        , 1.        , 1.        , 0.98039216, 0.05098039,\n",
              "         0.        , 0.02745098, 0.        , 0.00392157, 0.01568627,\n",
              "         0.00784314, 0.        , 0.        , 0.        , 0.        ,\n",
              "         0.        , 0.        , 0.        ],\n",
              "        [0.        , 0.        , 0.        , 0.        , 0.        ,\n",
              "         0.        , 0.        , 0.        , 0.        , 0.00392157,\n",
              "         0.41960784, 0.99215686, 0.99607843, 1.        , 0.        ,\n",
              "         0.00784314, 0.        , 0.00392157, 0.        , 0.01568627,\n",
              "         0.        , 0.        , 0.00784314, 0.00392157, 0.        ,\n",
              "         0.        , 0.        , 0.        ],\n",
              "        [0.        , 0.        , 0.        , 0.        , 0.        ,\n",
              "         0.        , 0.        , 0.        , 0.01176471, 0.        ,\n",
              "         0.89803922, 1.        , 1.        , 0.65490196, 0.00784314,\n",
              "         0.00392157, 0.        , 0.        , 0.        , 0.        ,\n",
              "         0.        , 0.        , 0.        , 0.        , 0.        ,\n",
              "         0.        , 0.        , 0.        ],\n",
              "        [0.        , 0.        , 0.        , 0.        , 0.        ,\n",
              "         0.        , 0.        , 0.        , 0.        , 0.28627451,\n",
              "         1.        , 1.        , 0.98823529, 0.03921569, 0.        ,\n",
              "         0.01960784, 0.        , 0.        , 0.        , 0.        ,\n",
              "         0.        , 0.        , 0.        , 0.        , 0.        ,\n",
              "         0.        , 0.        , 0.        ],\n",
              "        [0.        , 0.        , 0.        , 0.        , 0.        ,\n",
              "         0.        , 0.        , 0.        , 0.        , 0.87058824,\n",
              "         0.98039216, 0.98823529, 1.        , 0.        , 0.        ,\n",
              "         0.        , 0.        , 0.        , 0.        , 0.        ,\n",
              "         0.        , 0.        , 0.        , 0.        , 0.        ,\n",
              "         0.        , 0.        , 0.        ],\n",
              "        [0.        , 0.        , 0.        , 0.        , 0.        ,\n",
              "         0.        , 0.        , 0.        , 0.        , 0.47058824,\n",
              "         1.        , 0.98431373, 0.61176471, 0.00392157, 0.00392157,\n",
              "         0.        , 0.        , 0.        , 0.        , 0.        ,\n",
              "         0.        , 0.        , 0.        , 0.        , 0.        ,\n",
              "         0.        , 0.        , 0.        ]]])"
            ]
          },
          "metadata": {},
          "execution_count": 53
        }
      ]
    },
    {
      "cell_type": "code",
      "source": [
        "result=nn.predict(img2)"
      ],
      "metadata": {
        "colab": {
          "base_uri": "https://localhost:8080/"
        },
        "id": "oVIe71KeBsqy",
        "outputId": "db30de66-2973-4888-c1b9-952f9af176b2"
      },
      "execution_count": 55,
      "outputs": [
        {
          "output_type": "stream",
          "name": "stdout",
          "text": [
            "1/1 [==============================] - 0s 22ms/step\n"
          ]
        }
      ]
    },
    {
      "cell_type": "code",
      "source": [
        "result"
      ],
      "metadata": {
        "colab": {
          "base_uri": "https://localhost:8080/"
        },
        "id": "mFhCSft7BzBc",
        "outputId": "6169a77f-32c6-4b23-c1fb-c63ab8a5b8b6"
      },
      "execution_count": 56,
      "outputs": [
        {
          "output_type": "execute_result",
          "data": {
            "text/plain": [
              "array([[3.2625286e-13, 2.8915795e-07, 1.0214466e-06, 6.3821053e-06,\n",
              "        3.1899998e-07, 1.6028441e-11, 1.8667558e-14, 9.9999118e-01,\n",
              "        1.2045386e-08, 8.4442104e-07]], dtype=float32)"
            ]
          },
          "metadata": {},
          "execution_count": 56
        }
      ]
    },
    {
      "cell_type": "code",
      "source": [
        "np.argmax(result,axis=-1)"
      ],
      "metadata": {
        "colab": {
          "base_uri": "https://localhost:8080/"
        },
        "id": "XBbCzNUrB8wn",
        "outputId": "edff9601-a219-4800-abf7-f949f3c421d7"
      },
      "execution_count": 57,
      "outputs": [
        {
          "output_type": "execute_result",
          "data": {
            "text/plain": [
              "array([7])"
            ]
          },
          "metadata": {},
          "execution_count": 57
        }
      ]
    },
    {
      "cell_type": "code",
      "source": [],
      "metadata": {
        "id": "JjRlxkUFCBtF"
      },
      "execution_count": null,
      "outputs": []
    }
  ]
}